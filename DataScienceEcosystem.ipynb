{
 "cells": [
  {
   "cell_type": "code",
   "execution_count": null,
   "id": "05daa3f2-4730-4074-a5c9-b4d733ca55eb",
   "metadata": {},
   "outputs": [],
   "source": [
    "# Data Science Tools and Ecosystem"
   ]
  },
  {
   "cell_type": "markdown",
   "id": "7898ec68-6549-467c-8d68-3e0cd71436df",
   "metadata": {},
   "source": [
    "In this notebook, Data Science Tools and Ecosystem are summarized."
   ]
  },
  {
   "cell_type": "markdown",
   "id": "e9f534c3-d2dd-475b-902b-c67ebd937e8c",
   "metadata": {},
   "source": [
    "**Objectives :**\n",
    "Python\n",
    "R\n",
    "Git"
   ]
  },
  {
   "cell_type": "markdown",
   "id": "996c840f-b542-464a-adde-9d3d0747435a",
   "metadata": {},
   "source": [
    "**Some of the popular languages that Data Scientists use are:**\n",
    "1. Python\n",
    "2. R\n",
    "3. SQL"
   ]
  },
  {
   "cell_type": "markdown",
   "id": "333044bf-a5e4-4c7f-8568-900cc0696f2d",
   "metadata": {},
   "source": [
    "**Some of the commonly used libraries used by Data Scientists include:**\n",
    "1. Pandas\n",
    "2. Numpy\n",
    "3. Matplotlib"
   ]
  },
  {
   "cell_type": "markdown",
   "id": "db2e3a97-0d5d-468d-b7a1-4c483ac788de",
   "metadata": {},
   "source": [
    "| Data Science Tools          |\r\n",
    "|-----------------------------|\r\n",
    "| JupyterLab                  |\r\n",
    "| RStudio                     |\r\n",
    "| Apache Zeppelin             |\r\n"
   ]
  },
  {
   "cell_type": "markdown",
   "id": "302931ca-1dd0-4269-9a07-e274848d911c",
   "metadata": {},
   "source": [
    "### Below are a few examples of evaluating arithmetic expressions in Python"
   ]
  },
  {
   "cell_type": "code",
   "execution_count": 31,
   "id": "70f33a7f-cb96-4bcb-b303-c5ae12de3411",
   "metadata": {},
   "outputs": [
    {
     "data": {
      "text/plain": [
       "17"
      ]
     },
     "execution_count": 31,
     "metadata": {},
     "output_type": "execute_result"
    }
   ],
   "source": [
    " (3*4)+5\n",
    "#This a simple arithmetic expression to mutiply then add integers"
   ]
  },
  {
   "cell_type": "code",
   "execution_count": 37,
   "id": "ffdde52c-f88b-45b5-a721-6d02ef564785",
   "metadata": {},
   "outputs": [
    {
     "name": "stdout",
     "output_type": "stream",
     "text": [
      "3.3333333333333335\n"
     ]
    }
   ],
   "source": [
    "mins = 200\n",
    "#This will convert 200 minutes to hours by diving by 60\n",
    "hrs = 200 / 60\n",
    "print (hrs)"
   ]
  },
  {
   "attachments": {},
   "cell_type": "markdown",
   "id": "c452ec3a-da5f-4d3a-840d-6f2a419417d9",
   "metadata": {},
   "source": [
    "## Author\n",
    "Atharva"
   ]
  },
  {
   "cell_type": "code",
   "execution_count": null,
   "id": "ba426e83-7beb-4f8c-8756-8f64ff94e47e",
   "metadata": {},
   "outputs": [],
   "source": []
  }
 ],
 "metadata": {
  "kernelspec": {
   "display_name": "Python 3 (ipykernel)",
   "language": "python",
   "name": "python3"
  },
  "language_info": {
   "codemirror_mode": {
    "name": "ipython",
    "version": 3
   },
   "file_extension": ".py",
   "mimetype": "text/x-python",
   "name": "python",
   "nbconvert_exporter": "python",
   "pygments_lexer": "ipython3",
   "version": "3.11.7"
  }
 },
 "nbformat": 4,
 "nbformat_minor": 5
}
